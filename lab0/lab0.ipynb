{
 "cells": [
  {
   "cell_type": "code",
   "execution_count": 1,
   "metadata": {},
   "outputs": [],
   "source": [
    "import numpy as np\n",
    "import matplotlib.pyplot as plt\n"
   ]
  },
  {
   "cell_type": "code",
   "execution_count": 157,
   "metadata": {},
   "outputs": [],
   "source": [
    "# funkcja rzutująca punkty na linie o kierunku a \n",
    "def rzutowanie(X,a):\n",
    "    x_tmp = (X[:,1] * a + X[:,0]) / (a ** 2 + 1)\n",
    "    y_tmp = a * x_tmp   \n",
    "    return np.array([x_tmp,y_tmp]).T"
   ]
  },
  {
   "cell_type": "code",
   "execution_count": 180,
   "metadata": {},
   "outputs": [
    {
     "data": {
      "image/png": "[encoded data removed]",
      "text/plain": [
       "<Figure size 432x288 with 1 Axes>"
      ]
     },
     "metadata": {
      "needs_background": "light"
     },
     "output_type": "display_data"
    }
   ],
   "source": [
    "# macierz kowiarancji\n",
    "cov = np.array([[1,0],[0,1]])\n",
    "\n",
    "# losowanie 30 punktów z rozkładu normalnego o średniej mean_1 i macierzy kowariancji cov\n",
    "mean_1 = np.array([-1,1])\n",
    "mean_1_t = np.array([-1,1])[np.newaxis].T\n",
    "c1 = np.random.multivariate_normal(mean_1, cov, 30)\n",
    "n1 = np.size(c1[:,0])\n",
    "\n",
    "mean_2 = np.array([2,4])\n",
    "mean_2_t = np.array([2,4])[np.newaxis].T\n",
    "c2 = np.random.multivariate_normal(mean_2, cov, 30)\n",
    "n2 = np.size(c2[:,0])\n",
    "\n",
    "mean_3 = np.array([-2,2])\n",
    "mean_3_t = np.array([-2,2])[np.newaxis].T\n",
    "c3 = np.random.multivariate_normal(mean_3, cov, 30)\n",
    "n3 = np.size(c3[:,0])\n",
    "\n",
    "# Ogólna liczność oraz liczba klas\n",
    "n = n1 + n2 + n3\n",
    "g = 3\n",
    "\n",
    "# wyznaczanie średniej dla wszystkich punktów\n",
    "tmp = np.mean((c1,c2,c3),axis=1)\n",
    "mean = np.mean(tmp,axis=0)[np.newaxis].T\n",
    "\n",
    "# Macierz zmienności międzygrupowej\n",
    "B = ((n1 * (mean_1_t - mean)) @ (mean_1_t - mean).T + (n2 * (mean_2_t - mean)) @ (mean_2_t - mean).T + (n3 * (mean_3_t - mean)) @ \n",
    "      (mean_3_t - mean).T)/ (g-1)\n",
    "\n",
    "# Macierz zmienności wewnątrzgrupowej\n",
    "W = 1 / (n - g) * ((n1 - 1) * cov + (n2 - 1) * cov + (n3 - 1) * cov)\n",
    "\n",
    "# Macierz pomocnicza\n",
    "W_rev = np.linalg.inv(W)\n",
    "U = W_rev @ B\n",
    "\n",
    "# wartosci i wektory własne\n",
    "w, v= np.linalg.eig(U)\n",
    "t = v[np.argmax(np.max(v,axis=1))]\n",
    "\n",
    "# rysowanie punktów\n",
    "plt.scatter(c1[:,0],c1[:,1], color='red', s = 10 ,label=\"class 1\", marker = \"*\")\n",
    "plt.scatter(c2[:,0],c2[:,1], color='green', s = 10 ,label=\"class 2\", marker = \"*\")\n",
    "plt.scatter(c3[:,0],c3[:,1], color='yellow', s = 10 ,label=\"class 3\", marker = \"*\")\n",
    "\n",
    "# rysowanie prostej o nachyleniu a \n",
    "x = np.linspace(-4,6)\n",
    "a = -t[1]/t[0]\n",
    "y = a * x\n",
    "plt.plot(x,y,\"r\",color=\"black\")\n",
    "\n",
    "\n",
    "# rysowanie zrzutowanych punktów \n",
    "D1 = rzutowanie(c1,a)\n",
    "D2 = rzutowanie(c2,a)\n",
    "D3 = rzutowanie(c3,a)\n",
    "\n",
    "plt.scatter(D1[:,0],D1[:,1], color='red', s = 30, marker = \"o\")\n",
    "plt.scatter(D2[:,0],D2[:,1], color='green', s = 30, marker = \"o\")\n",
    "plt.scatter(D3[:,0],D3[:,1], color='yellow', s = 30, marker = \"o\")\n",
    "\n",
    "plt.axis('equal')\n",
    "plt.grid()\n",
    "plt.legend()\n",
    "plt.show()"
   ]
  },
  {
   "cell_type": "code",
   "execution_count": null,
   "metadata": {},
   "outputs": [],
   "source": []
  },
  {
   "cell_type": "code",
   "execution_count": null,
   "metadata": {},
   "outputs": [],
   "source": []
  },
  {
   "cell_type": "code",
   "execution_count": null,
   "metadata": {},
   "outputs": [],
   "source": []
  },
  {
   "cell_type": "code",
   "execution_count": null,
   "metadata": {},
   "outputs": [],
   "source": []
  },
  {
   "cell_type": "code",
   "execution_count": null,
   "metadata": {},
   "outputs": [],
   "source": []
  },
  {
   "cell_type": "code",
   "execution_count": null,
   "metadata": {},
   "outputs": [],
   "source": []
  },
  {
   "cell_type": "code",
   "execution_count": null,
   "metadata": {},
   "outputs": [],
   "source": []
  },
  {
   "cell_type": "code",
   "execution_count": null,
   "metadata": {},
   "outputs": [],
   "source": []
  },
  {
   "cell_type": "code",
   "execution_count": null,
   "metadata": {},
   "outputs": [],
   "source": []
  },
  {
   "cell_type": "code",
   "execution_count": null,
   "metadata": {},
   "outputs": [],
   "source": []
  },
  {
   "cell_type": "code",
   "execution_count": null,
   "metadata": {},
   "outputs": [],
   "source": []
  }
 ],
 "metadata": {
  "kernelspec": {
   "display_name": "Python 3",
   "language": "python",
   "name": "python3"
  },
  "language_info": {
   "codemirror_mode": {
    "name": "ipython",
    "version": 3
   },
   "file_extension": ".py",
   "mimetype": "text/x-python",
   "name": "python",
   "nbconvert_exporter": "python",
   "pygments_lexer": "ipython3",
   "version": "3.7.4"
  }
 },
 "nbformat": 4,
 "nbformat_minor": 2
}
