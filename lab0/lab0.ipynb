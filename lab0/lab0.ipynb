{
 "cells": [
  {
   "cell_type": "code",
   "execution_count": 7,
   "metadata": {},
   "outputs": [
    {
     "data": {
      "image/png": "[encoded data removed]",
      "text/plain": [
       "<Figure size 432x288 with 1 Axes>"
      ]
     },
     "metadata": {
      "needs_background": "light"
     },
     "output_type": "display_data"
    }
   ],
   "source": [
    "import numpy as np\n",
    "import matplotlib.pyplot as plt\n",
    "\n",
    "# funkcja rzutująca punkty na linie o kierunku a\n",
    "def rzutowanie(X,a):\n",
    "    x_tmp = (X[1] * a + X[0]) / (a ** 2 + 1)\n",
    "    y_tmp = a * x_tmp   \n",
    "    return np.array([x_tmp,y_tmp])\n",
    "\n",
    "# macierz kowiarancji\n",
    "cov = np.array([[1,0],[0,1]])\n",
    "\n",
    "# średnia w klasie 1\n",
    "mean_1 = np.array([-1,1])\n",
    "# losowanie 30 punktów z rozkładu normalnego o średniej mean_1 i macierzy kowariancji cov\n",
    "c1 = np.random.multivariate_normal(mean_1, cov, 30).T\n",
    "n1 = np.size(c1[0])\n",
    "\n",
    "mean_2 = np.array([2,4])\n",
    "c2 = np.random.multivariate_normal(mean_2, cov, 30).T\n",
    "n2 = np.size(c2[0])\n",
    "\n",
    "mean_3 = np.array([-2,2])\n",
    "c3 = np.random.multivariate_normal(mean_3, cov, 30).T\n",
    "n3 = np.size(c3[0])\n",
    "\n",
    "# Ogólna liczność oraz liczba klas\n",
    "n = n1 + n2 + n3\n",
    "g = 3\n",
    "\n",
    "# wyznaczanie średniej dla wszystkich punktów\n",
    "sumx = c1 + c2 + c3\n",
    "tmp = np.mean((c1,c2,c3),axis = 0)\n",
    "mean = np.array([np.mean(tmp[0]),np.mean(tmp[1])])\n",
    "\n",
    "# Macierz zmienności międzygrupowej\n",
    "B = (np.outer((n1 * (mean_1 - mean)) , (mean_1 - mean).transpose()) + np.outer((n2 * (mean_2 - mean)) , (mean_2 - mean).transpose())\n",
    "+ np.outer((n3 * (mean_3 - mean)) , (mean_3 - mean).transpose())) / (g - 1)\n",
    "\n",
    "# Macierz zmienności wewnątrzgrupowej\n",
    "W = 1 / (n - g) * ((n1 - 1) * cov + (n2 - 1) * cov + (n3 - 1) * cov)\n",
    "\n",
    "# Macierz pomocnicza\n",
    "W_rev = np.linalg.inv(W)\n",
    "U = np.dot(W_rev,B)\n",
    "\n",
    "# wartosci i wektory własne\n",
    "w, v= np.linalg.eig(U)\n",
    "\n",
    "# rysowanie linii o kierunku a \n",
    "x = np.linspace(-4,6)\n",
    "a = v[1][0]/v[1][1]\n",
    "y = a * x\n",
    "plt.plot(x,y,\"r\",color=\"black\")\n",
    "\n",
    "# rysowanie punktów\n",
    "plt.scatter(c1[0],c1[1], color='red', s = 10 ,label=\"class 1\", marker = \"*\")\n",
    "plt.scatter(c2[0], c2[1], color='green', s = 10 ,label=\"class 2\", marker = \"*\")\n",
    "plt.scatter(c3[0], c3[1], color='yellow', s = 10 ,label=\"class 3\", marker = \"*\")\n",
    "\n",
    "# rysowanie zrzutowanych punktów \n",
    "D1 = rzutowanie(c1, a)\n",
    "plt.scatter(D1[0],D1[1], color='red', s = 30, marker = \"o\")\n",
    "\n",
    "D2 = rzutowanie(c2, a)\n",
    "plt.scatter(D2[0],D2[1], color='green', s = 30, marker = \"o\")\n",
    "\n",
    "D3 = rzutowanie(c3, a)\n",
    "plt.scatter(D3[0],D3[1], color='yellow', s = 30, marker = \"o\")\n",
    "\n",
    "plt.axis('equal')\n",
    "plt.grid()\n",
    "plt.legend()\n",
    "plt.show()\n"
   ]
  },
  {
   "cell_type": "code",
   "execution_count": null,
   "metadata": {},
   "outputs": [],
   "source": []
  },
  {
   "cell_type": "code",
   "execution_count": null,
   "metadata": {},
   "outputs": [],
   "source": []
  },
  {
   "cell_type": "code",
   "execution_count": null,
   "metadata": {},
   "outputs": [],
   "source": []
  },
  {
   "cell_type": "code",
   "execution_count": null,
   "metadata": {},
   "outputs": [],
   "source": []
  }
 ],
 "metadata": {
  "kernelspec": {
   "display_name": "Python 3",
   "language": "python",
   "name": "python3"
  },
  "language_info": {
   "codemirror_mode": {
    "name": "ipython",
    "version": 3
   },
   "file_extension": ".py",
   "mimetype": "text/x-python",
   "name": "python",
   "nbconvert_exporter": "python",
   "pygments_lexer": "ipython3",
   "version": "3.7.4"
  }
 },
 "nbformat": 4,
 "nbformat_minor": 2
}
