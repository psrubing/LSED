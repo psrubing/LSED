{
 "cells": [
  {
   "cell_type": "code",
   "execution_count": 121,
   "metadata": {},
   "outputs": [],
   "source": [
    "import pandas as pd\n",
    "import numpy as np\n",
    "from sklearn.model_selection import train_test_split\n",
    "from sklearn.metrics import confusion_matrix,accuracy_score\n",
    "from sklearn.discriminant_analysis import LinearDiscriminantAnalysis, QuadraticDiscriminantAnalysis\n",
    "from sklearn.naive_bayes import GaussianNB\n",
    "from sklearn.model_selection import cross_val_score, cross_val_predict"
   ]
  },
  {
   "cell_type": "code",
   "execution_count": 75,
   "metadata": {},
   "outputs": [],
   "source": [
    "# Wczytanie zbioru danych oraz nazwanie kolumn zgodnie z opisem ( i., ii.)\n",
    "wines = pd.read_table(\"wine.data\",sep=',',names=[\"Class\",\"Alcochol\",\"Malic acid\",\"Ash\",\"Alcalinity of ash\",\"Magnesium\",\"Total phenols\",\"Flavaniods\",\"Nonflavanoid phenols\",\"Proanthocyanins\"\n",
    "             ,\"Color intensity\",\"Hue\",\"OD280/OD315 of diluted wines\",\"Proline\"])"
   ]
  },
  {
   "cell_type": "code",
   "execution_count": 76,
   "metadata": {},
   "outputs": [
    {
     "data": {
      "text/html": [
       "<div>\n",
       "<style scoped>\n",
       "    .dataframe tbody tr th:only-of-type {\n",
       "        vertical-align: middle;\n",
       "    }\n",
       "\n",
       "    .dataframe tbody tr th {\n",
       "        vertical-align: top;\n",
       "    }\n",
       "\n",
       "    .dataframe thead th {\n",
       "        text-align: right;\n",
       "    }\n",
       "</style>\n",
       "<table border=\"1\" class=\"dataframe\">\n",
       "  <thead>\n",
       "    <tr style=\"text-align: right;\">\n",
       "      <th></th>\n",
       "      <th>Class</th>\n",
       "      <th>Alcochol</th>\n",
       "      <th>Malic acid</th>\n",
       "      <th>Ash</th>\n",
       "      <th>Alcalinity of ash</th>\n",
       "      <th>Magnesium</th>\n",
       "      <th>Total phenols</th>\n",
       "      <th>Flavaniods</th>\n",
       "      <th>Nonflavanoid phenols</th>\n",
       "      <th>Proanthocyanins</th>\n",
       "      <th>Color intensity</th>\n",
       "      <th>Hue</th>\n",
       "      <th>OD280/OD315 of diluted wines</th>\n",
       "      <th>Proline</th>\n",
       "    </tr>\n",
       "  </thead>\n",
       "  <tbody>\n",
       "    <tr>\n",
       "      <td>0</td>\n",
       "      <td>1</td>\n",
       "      <td>14.23</td>\n",
       "      <td>1.71</td>\n",
       "      <td>2.43</td>\n",
       "      <td>15.6</td>\n",
       "      <td>127</td>\n",
       "      <td>2.80</td>\n",
       "      <td>3.06</td>\n",
       "      <td>0.28</td>\n",
       "      <td>2.29</td>\n",
       "      <td>5.64</td>\n",
       "      <td>1.04</td>\n",
       "      <td>3.92</td>\n",
       "      <td>1065</td>\n",
       "    </tr>\n",
       "    <tr>\n",
       "      <td>1</td>\n",
       "      <td>1</td>\n",
       "      <td>13.20</td>\n",
       "      <td>1.78</td>\n",
       "      <td>2.14</td>\n",
       "      <td>11.2</td>\n",
       "      <td>100</td>\n",
       "      <td>2.65</td>\n",
       "      <td>2.76</td>\n",
       "      <td>0.26</td>\n",
       "      <td>1.28</td>\n",
       "      <td>4.38</td>\n",
       "      <td>1.05</td>\n",
       "      <td>3.40</td>\n",
       "      <td>1050</td>\n",
       "    </tr>\n",
       "    <tr>\n",
       "      <td>2</td>\n",
       "      <td>1</td>\n",
       "      <td>13.16</td>\n",
       "      <td>2.36</td>\n",
       "      <td>2.67</td>\n",
       "      <td>18.6</td>\n",
       "      <td>101</td>\n",
       "      <td>2.80</td>\n",
       "      <td>3.24</td>\n",
       "      <td>0.30</td>\n",
       "      <td>2.81</td>\n",
       "      <td>5.68</td>\n",
       "      <td>1.03</td>\n",
       "      <td>3.17</td>\n",
       "      <td>1185</td>\n",
       "    </tr>\n",
       "    <tr>\n",
       "      <td>3</td>\n",
       "      <td>1</td>\n",
       "      <td>14.37</td>\n",
       "      <td>1.95</td>\n",
       "      <td>2.50</td>\n",
       "      <td>16.8</td>\n",
       "      <td>113</td>\n",
       "      <td>3.85</td>\n",
       "      <td>3.49</td>\n",
       "      <td>0.24</td>\n",
       "      <td>2.18</td>\n",
       "      <td>7.80</td>\n",
       "      <td>0.86</td>\n",
       "      <td>3.45</td>\n",
       "      <td>1480</td>\n",
       "    </tr>\n",
       "    <tr>\n",
       "      <td>4</td>\n",
       "      <td>1</td>\n",
       "      <td>13.24</td>\n",
       "      <td>2.59</td>\n",
       "      <td>2.87</td>\n",
       "      <td>21.0</td>\n",
       "      <td>118</td>\n",
       "      <td>2.80</td>\n",
       "      <td>2.69</td>\n",
       "      <td>0.39</td>\n",
       "      <td>1.82</td>\n",
       "      <td>4.32</td>\n",
       "      <td>1.04</td>\n",
       "      <td>2.93</td>\n",
       "      <td>735</td>\n",
       "    </tr>\n",
       "  </tbody>\n",
       "</table>\n",
       "</div>"
      ],
      "text/plain": [
       "   Class  Alcochol  Malic acid   Ash  Alcalinity of ash  Magnesium  \\\n",
       "0      1     14.23        1.71  2.43               15.6        127   \n",
       "1      1     13.20        1.78  2.14               11.2        100   \n",
       "2      1     13.16        2.36  2.67               18.6        101   \n",
       "3      1     14.37        1.95  2.50               16.8        113   \n",
       "4      1     13.24        2.59  2.87               21.0        118   \n",
       "\n",
       "   Total phenols  Flavaniods  Nonflavanoid phenols  Proanthocyanins  \\\n",
       "0           2.80        3.06                  0.28             2.29   \n",
       "1           2.65        2.76                  0.26             1.28   \n",
       "2           2.80        3.24                  0.30             2.81   \n",
       "3           3.85        3.49                  0.24             2.18   \n",
       "4           2.80        2.69                  0.39             1.82   \n",
       "\n",
       "   Color intensity   Hue  OD280/OD315 of diluted wines  Proline  \n",
       "0             5.64  1.04                          3.92     1065  \n",
       "1             4.38  1.05                          3.40     1050  \n",
       "2             5.68  1.03                          3.17     1185  \n",
       "3             7.80  0.86                          3.45     1480  \n",
       "4             4.32  1.04                          2.93      735  "
      ]
     },
     "execution_count": 76,
     "metadata": {},
     "output_type": "execute_result"
    }
   ],
   "source": [
    "wines.head()"
   ]
  },
  {
   "cell_type": "code",
   "execution_count": 99,
   "metadata": {},
   "outputs": [],
   "source": [
    "# Ograniczenie zbioru do odpowiednio: wszystkich składowych/ 2 pierwszych/ 5 pierwszych/ 10 pierwszych (iii., iv.)\n",
    "X = [(\"Pełny zbiór danych:\",wines.iloc[:,1:].values),(\"Ograniczenie do 2 pierwszych składowych:\",wines.iloc[:,1:3].values)\n",
    "            ,(\"Ograniczenie do 5 pierwszych składowych:\",wines.iloc[:,1:6].values)\n",
    "            ,(\"Ograniczenie do 10 pierwszych składowych:\",wines.iloc[:,1:11].values)]\n",
    "y = wines.iloc[:,0].values"
   ]
  },
  {
   "cell_type": "markdown",
   "metadata": {},
   "source": [
    "#### Narazie zakładmy, że cały zbiór to PU i PT jednocześcnie (powtórne podstawienie), dlatego możemy przypusić, że taka klasyfikacja jest dosyć optymistyczna. W następnej części zadnia dokonamy podziału całego zbioru na PU i PT w odpowienich stosunkach"
   ]
  },
  {
   "cell_type": "code",
   "execution_count": 156,
   "metadata": {},
   "outputs": [
    {
     "name": "stdout",
     "output_type": "stream",
     "text": [
      "Pełny zbiór danych:\n",
      "Accuracy:  1.0\n",
      "Macierz pomyłek: \n",
      " [[59  0  0]\n",
      " [ 0 71  0]\n",
      " [ 0  0 48]] \n",
      "\n",
      "Ograniczenie do 2 pierwszych składowych:\n",
      "Accuracy:  0.8089887640449438\n",
      "Macierz pomyłek: \n",
      " [[51  1  7]\n",
      " [ 5 61  5]\n",
      " [ 7  9 32]] \n",
      "\n",
      "Ograniczenie do 5 pierwszych składowych:\n",
      "Accuracy:  0.8764044943820225\n",
      "Macierz pomyłek: \n",
      " [[54  1  4]\n",
      " [ 1 65  5]\n",
      " [ 3  8 37]] \n",
      "\n",
      "Ograniczenie do 10 pierwszych składowych:\n",
      "Accuracy:  0.9887640449438202\n",
      "Macierz pomyłek: \n",
      " [[59  0  0]\n",
      " [ 1 70  0]\n",
      " [ 0  1 47]] \n",
      "\n"
     ]
    }
   ],
   "source": [
    "#LDA\n",
    "for name,x in X:\n",
    "    lda = LinearDiscriminantAnalysis()\n",
    "    lda.fit(x,y)\n",
    "    pred_lda = lda.predict(x)\n",
    "    print(name)\n",
    "    print(\"Accuracy: \",accuracy_score(y, pred_lda))\n",
    "    print(\"Macierz pomyłek: \\n\",confusion_matrix(y, pred_lda),\"\\n\")"
   ]
  },
  {
   "cell_type": "code",
   "execution_count": 157,
   "metadata": {},
   "outputs": [
    {
     "name": "stdout",
     "output_type": "stream",
     "text": [
      "Pełny zbiór danych:\n",
      "Accuracy:  0.9943820224719101\n",
      "Macierz pomyłek: \n",
      " [[59  0  0]\n",
      " [ 1 70  0]\n",
      " [ 0  0 48]] \n",
      "\n",
      "Ograniczenie do 2 pierwszych składowych:\n",
      "Accuracy:  0.8146067415730337\n",
      "Macierz pomyłek: \n",
      " [[52  1  6]\n",
      " [ 4 62  5]\n",
      " [ 7 10 31]] \n",
      "\n",
      "Ograniczenie do 5 pierwszych składowych:\n",
      "Accuracy:  0.8876404494382022\n",
      "Macierz pomyłek: \n",
      " [[53  1  5]\n",
      " [ 1 65  5]\n",
      " [ 2  6 40]] \n",
      "\n",
      "Ograniczenie do 10 pierwszych składowych:\n",
      "Accuracy:  0.9943820224719101\n",
      "Macierz pomyłek: \n",
      " [[59  0  0]\n",
      " [ 1 70  0]\n",
      " [ 0  0 48]] \n",
      "\n"
     ]
    }
   ],
   "source": [
    "#QDA\n",
    "for name,x in X:\n",
    "    qda = QuadraticDiscriminantAnalysis()\n",
    "    qda.fit(x,y)\n",
    "    pred_qda = qda.predict(x)\n",
    "    print(name)\n",
    "    print(\"Accuracy: \",accuracy_score(y, pred_qda))\n",
    "    print(\"Macierz pomyłek: \\n\",confusion_matrix(y, pred_qda),\"\\n\")"
   ]
  },
  {
   "cell_type": "code",
   "execution_count": 158,
   "metadata": {},
   "outputs": [
    {
     "name": "stdout",
     "output_type": "stream",
     "text": [
      "Pełny zbiór danych:\n",
      "Accuracy:  0.9887640449438202\n",
      "Macierz pomyłek: \n",
      " [[58  1  0]\n",
      " [ 0 70  1]\n",
      " [ 0  0 48]] \n",
      "\n",
      "Ograniczenie do 2 pierwszych składowych:\n",
      "Accuracy:  0.8089887640449438\n",
      "Macierz pomyłek: \n",
      " [[51  1  7]\n",
      " [ 4 62  5]\n",
      " [ 7 10 31]] \n",
      "\n",
      "Ograniczenie do 5 pierwszych składowych:\n",
      "Accuracy:  0.8539325842696629\n",
      "Macierz pomyłek: \n",
      " [[52  3  4]\n",
      " [ 2 62  7]\n",
      " [ 3  7 38]] \n",
      "\n",
      "Ograniczenie do 10 pierwszych składowych:\n",
      "Accuracy:  0.9606741573033708\n",
      "Macierz pomyłek: \n",
      " [[56  3  0]\n",
      " [ 2 68  1]\n",
      " [ 0  1 47]] \n",
      "\n"
     ]
    }
   ],
   "source": [
    "#NB\n",
    "for name,x in X:\n",
    "    nb = GaussianNB()\n",
    "    nb.fit(x,y)\n",
    "    pred_nb = nb.predict(x)\n",
    "    print(name)\n",
    "    print(\"Accuracy: \",accuracy_score(y, pred_nb))\n",
    "    print(\"Macierz pomyłek: \\n\",confusion_matrix(y, pred_nb),\"\\n\")"
   ]
  },
  {
   "cell_type": "markdown",
   "metadata": {},
   "source": [
    "#### Klasyfikatory osiagają lepszą skuteczność im więcej składowych jest uwzględnianych. Sposród LDA,QDA i NB nie ma zdecydowanego zwycięzcy, jednak to LDA osiągneło największą dokładnośc klasyfikacji. "
   ]
  },
  {
   "cell_type": "code",
   "execution_count": 84,
   "metadata": {},
   "outputs": [],
   "source": [
    "# Ograniczenie zbioru do 2 pierwszych składowych (v.)\n",
    "X2 = wines.iloc[:,1:3].values\n",
    "# Podzielenie zbioru na PU/PT w stosunku 75/25\n",
    "X_train, X_test, y_train, y_test = train_test_split(X2, y, test_size=0.25, random_state=1)\n",
    "# Podzielenie zbioru PU na PU/PW w stosunku 50/25\n",
    "X_train, X_val, y_train, y_val = train_test_split(X_train, y_train, test_size=0.33, random_state=1)\n",
    "# Tym samym otrzymaliśmy PU/PW/PT w stosunku 50/25/25"
   ]
  },
  {
   "cell_type": "code",
   "execution_count": 96,
   "metadata": {
    "scrolled": true
   },
   "outputs": [
    {
     "name": "stdout",
     "output_type": "stream",
     "text": [
      "\tAccuracy\n",
      "LDA:  0.7727272727272727\n",
      "QDA:  0.8409090909090909\n",
      "NB:   0.8636363636363636\n"
     ]
    }
   ],
   "source": [
    "# Trenujmey wszystkie 3 klasyfikatory na PU a następnie sprawdzamy ich dokladność na PW\n",
    "\n",
    "lda = LinearDiscriminantAnalysis()\n",
    "lda.fit(X_train,y_train)\n",
    "pred_lda = lda.predict(X_val)\n",
    "\n",
    "qda = QuadraticDiscriminantAnalysis()\n",
    "qda.fit(X_train,y_train)\n",
    "pred_qda = qda.predict(X_val)\n",
    "\n",
    "nb = GaussianNB()\n",
    "nb.fit(X_train,y_train)\n",
    "pred_nb = nb.predict(X_val)\n",
    "\n",
    "print(\"\\tAccuracy\")\n",
    "print(\"LDA: \",accuracy_score(y_val, pred_lda))\n",
    "print(\"QDA: \",accuracy_score(y_val, pred_qda))\n",
    "print(\"NB:  \",accuracy_score(y_val, pred_nb))"
   ]
  },
  {
   "cell_type": "markdown",
   "metadata": {},
   "source": [
    "#### Na podstawie PW otrzymaliśmy, że klasyfikator NB jest najlepszy, dlatego do PT wybierzemy jego"
   ]
  },
  {
   "cell_type": "code",
   "execution_count": 128,
   "metadata": {},
   "outputs": [
    {
     "name": "stdout",
     "output_type": "stream",
     "text": [
      "Accuracy:  0.8222222222222222\n"
     ]
    }
   ],
   "source": [
    "nb = GaussianNB()\n",
    "nb.fit(X_train,y_train)\n",
    "pred_nb = nb.predict(X_test)\n",
    "print(\"Accuracy: \",accuracy_score(y_test, pred_nb))"
   ]
  },
  {
   "cell_type": "markdown",
   "metadata": {},
   "source": [
    "#### Skuteczność NB na PT spadła, dlatego możemy wywnioskować, że podział całego zbioru na PU/PW/PT w stosunku 50/25/25 nie jest optymalnym rozwiązaniem"
   ]
  },
  {
   "cell_type": "code",
   "execution_count": 150,
   "metadata": {},
   "outputs": [
    {
     "name": "stdout",
     "output_type": "stream",
     "text": [
      "Accuracy:  0.7640449438202247\n"
     ]
    }
   ],
   "source": [
    "# Ograniczenie zbioru do 2 pierwszych składowych (vi.)\n",
    "lda = LinearDiscriminantAnalysis()\n",
    "lda.fit(X2,y)\n",
    "\n",
    "# Wykonujemy kroswalidacje na klasyfikatorze lda (k = 10)\n",
    "y_pred = cross_val_predict(lda, X2, y, cv=10)\n",
    "print(\"Accuracy: \",accuracy_score(y, y_pred))"
   ]
  },
  {
   "cell_type": "markdown",
   "metadata": {},
   "source": [
    "#### Porównanie skuteczności:\n",
    "#### 10-krotna kroswalidacja = 0.76\n",
    "#### Powtórne podstawienie = 0.81\n",
    "#### Poprzedni podpunkt = 0.78\n",
    "\n",
    "#### Z otrzymanych wyników, możemy stwierdzić, że kroswalidacja wypadła najgorzej i nie podniosła skuteczności klasyfikaotra LDA "
   ]
  }
 ],
 "metadata": {
  "kernelspec": {
   "display_name": "Python 3",
   "language": "python",
   "name": "python3"
  },
  "language_info": {
   "codemirror_mode": {
    "name": "ipython",
    "version": 3
   },
   "file_extension": ".py",
   "mimetype": "text/x-python",
   "name": "python",
   "nbconvert_exporter": "python",
   "pygments_lexer": "ipython3",
   "version": "3.7.4"
  }
 },
 "nbformat": 4,
 "nbformat_minor": 2
}
